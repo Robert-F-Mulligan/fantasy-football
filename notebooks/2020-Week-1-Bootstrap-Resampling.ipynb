{
 "cells": [
  {
   "cell_type": "code",
   "execution_count": 1,
   "metadata": {},
   "outputs": [],
   "source": [
    "import pandas as pd\n",
    "from sklearn.utils import resample\n",
    "from matplotlib import pyplot as plt\n",
    "import numpy as np\n",
    "import itertools\n",
    "import seaborn as sns; sns.set_style('whitegrid');"
   ]
  },
  {
   "cell_type": "code",
   "execution_count": 2,
   "metadata": {},
   "outputs": [
    {
     "data": {
      "text/html": [
       "<div>\n",
       "<style scoped>\n",
       "    .dataframe tbody tr th:only-of-type {\n",
       "        vertical-align: middle;\n",
       "    }\n",
       "\n",
       "    .dataframe tbody tr th {\n",
       "        vertical-align: top;\n",
       "    }\n",
       "\n",
       "    .dataframe thead th {\n",
       "        text-align: right;\n",
       "    }\n",
       "</style>\n",
       "<table border=\"1\" class=\"dataframe\">\n",
       "  <thead>\n",
       "    <tr style=\"text-align: right;\">\n",
       "      <th></th>\n",
       "      <th>Player</th>\n",
       "      <th>Sleeper</th>\n",
       "      <th>FanDuel</th>\n",
       "      <th>ESPN</th>\n",
       "      <th>FantasyPros</th>\n",
       "      <th>fftoday</th>\n",
       "      <th>ffcalculator</th>\n",
       "      <th>walterfootball</th>\n",
       "    </tr>\n",
       "  </thead>\n",
       "  <tbody>\n",
       "    <tr>\n",
       "      <th>0</th>\n",
       "      <td>Juju Smith-Schuster</td>\n",
       "      <td>16.20</td>\n",
       "      <td>15.84</td>\n",
       "      <td>14.6</td>\n",
       "      <td>15.6</td>\n",
       "      <td>14.6</td>\n",
       "      <td>16.2</td>\n",
       "      <td>18.0</td>\n",
       "    </tr>\n",
       "    <tr>\n",
       "      <th>1</th>\n",
       "      <td>Devante Parker</td>\n",
       "      <td>13.92</td>\n",
       "      <td>12.20</td>\n",
       "      <td>12.5</td>\n",
       "      <td>11.7</td>\n",
       "      <td>13.1</td>\n",
       "      <td>14.0</td>\n",
       "      <td>10.0</td>\n",
       "    </tr>\n",
       "    <tr>\n",
       "      <th>2</th>\n",
       "      <td>Tyler Boyd</td>\n",
       "      <td>14.23</td>\n",
       "      <td>11.92</td>\n",
       "      <td>11.7</td>\n",
       "      <td>12.3</td>\n",
       "      <td>7.6</td>\n",
       "      <td>14.5</td>\n",
       "      <td>10.0</td>\n",
       "    </tr>\n",
       "  </tbody>\n",
       "</table>\n",
       "</div>"
      ],
      "text/plain": [
       "                Player  Sleeper  FanDuel  ESPN  FantasyPros  fftoday  \\\n",
       "0  Juju Smith-Schuster    16.20    15.84  14.6         15.6     14.6   \n",
       "1       Devante Parker    13.92    12.20  12.5         11.7     13.1   \n",
       "2           Tyler Boyd    14.23    11.92  11.7         12.3      7.6   \n",
       "\n",
       "   ffcalculator  walterfootball  \n",
       "0          16.2            18.0  \n",
       "1          14.0            10.0  \n",
       "2          14.5            10.0  "
      ]
     },
     "execution_count": 2,
     "metadata": {},
     "output_type": "execute_result"
    }
   ],
   "source": [
    "df = pd.DataFrame({\n",
    "    'Player': ['Juju Smith-Schuster', 'Devante Parker', 'Tyler Boyd'],\n",
    "    'Sleeper': [16.20, 13.92, 14.23],\n",
    "    'FanDuel': [15.84, 12.20, 11.92],\n",
    "    'ESPN': [14.60, 12.50, 11.70],\n",
    "    'FantasyPros': [15.60, 11.70, 12.30],\n",
    "    'fftoday': [14.60, 13.10, 7.60],\n",
    "    'ffcalculator': [16.20, 14.0, 14.50],\n",
    "    'walterfootball': [18.0, 10.0, 10.0]\n",
    "})\n",
    "\n",
    "df.head()"
   ]
  },
  {
   "cell_type": "code",
   "execution_count": 3,
   "metadata": {},
   "outputs": [
    {
     "data": {
      "text/plain": [
       "array([13.92, 12.2, 12.5, 11.7, 13.1, 14.0, 10.0], dtype=object)"
      ]
     },
     "execution_count": 3,
     "metadata": {},
     "output_type": "execute_result"
    }
   ],
   "source": [
    "# grabbing each player's weekly fantasy points as an array\n",
    "juju = df.iloc[0, 1:].to_numpy()\n",
    "parker = df.iloc[1, 1:].to_numpy()\n",
    "boyd = df.iloc[1, 1:].to_numpy()\n",
    "\n",
    "parker"
   ]
  },
  {
   "cell_type": "code",
   "execution_count": 4,
   "metadata": {},
   "outputs": [],
   "source": [
    "def calculate_bootstrap_df(*proj_points_arrays, player_names=None, n_iterations=10000):\n",
    "  \n",
    "    df_data = {}\n",
    "\n",
    "    for i, arr in enumerate(proj_points_arrays):\n",
    "\n",
    "      proj_points_means = []\n",
    "\n",
    "      for n in range(n_iterations):\n",
    "          #find boostrap resample array\n",
    "          boot = resample(arr, n_samples=len(arr))\n",
    "          #append the mean of the boostrap array to a list of means\n",
    "          proj_points_means.append(np.mean(boot))\n",
    "\n",
    "      # if player names are provided, set the player names as the column values\n",
    "      # otherwise, use player_1, player_2, player_3, etc.\n",
    "      if player_names:\n",
    "        df_data[player_names[i]] = proj_points_means\n",
    "      else:\n",
    "        df_data[f'player_{i+1}'] = proj_points_means\n",
    "\n",
    "    return pd.DataFrame(df_data)"
   ]
  },
  {
   "cell_type": "code",
   "execution_count": 5,
   "metadata": {},
   "outputs": [
    {
     "data": {
      "text/html": [
       "<div>\n",
       "<style scoped>\n",
       "    .dataframe tbody tr th:only-of-type {\n",
       "        vertical-align: middle;\n",
       "    }\n",
       "\n",
       "    .dataframe tbody tr th {\n",
       "        vertical-align: top;\n",
       "    }\n",
       "\n",
       "    .dataframe thead th {\n",
       "        text-align: right;\n",
       "    }\n",
       "</style>\n",
       "<table border=\"1\" class=\"dataframe\">\n",
       "  <thead>\n",
       "    <tr style=\"text-align: right;\">\n",
       "      <th></th>\n",
       "      <th>Juju Smith-Schuster</th>\n",
       "      <th>Devante Parker</th>\n",
       "      <th>Tyler Boyd</th>\n",
       "    </tr>\n",
       "  </thead>\n",
       "  <tbody>\n",
       "    <tr>\n",
       "      <th>0</th>\n",
       "      <td>15.657143</td>\n",
       "      <td>12.031429</td>\n",
       "      <td>12.745714</td>\n",
       "    </tr>\n",
       "    <tr>\n",
       "      <th>1</th>\n",
       "      <td>15.360000</td>\n",
       "      <td>12.562857</td>\n",
       "      <td>12.374286</td>\n",
       "    </tr>\n",
       "    <tr>\n",
       "      <th>2</th>\n",
       "      <td>15.914286</td>\n",
       "      <td>12.645714</td>\n",
       "      <td>12.528571</td>\n",
       "    </tr>\n",
       "    <tr>\n",
       "      <th>3</th>\n",
       "      <td>15.200000</td>\n",
       "      <td>12.928571</td>\n",
       "      <td>12.391429</td>\n",
       "    </tr>\n",
       "    <tr>\n",
       "      <th>4</th>\n",
       "      <td>16.234286</td>\n",
       "      <td>12.560000</td>\n",
       "      <td>12.902857</td>\n",
       "    </tr>\n",
       "  </tbody>\n",
       "</table>\n",
       "</div>"
      ],
      "text/plain": [
       "   Juju Smith-Schuster  Devante Parker  Tyler Boyd\n",
       "0            15.657143       12.031429   12.745714\n",
       "1            15.360000       12.562857   12.374286\n",
       "2            15.914286       12.645714   12.528571\n",
       "3            15.200000       12.928571   12.391429\n",
       "4            16.234286       12.560000   12.902857"
      ]
     },
     "execution_count": 5,
     "metadata": {},
     "output_type": "execute_result"
    }
   ],
   "source": [
    "calculate_bootstrap_df(juju, parker, boyd, player_names=['Juju Smith-Schuster', 'Devante Parker', 'Tyler Boyd']).head()"
   ]
  },
  {
   "cell_type": "code",
   "execution_count": 6,
   "metadata": {},
   "outputs": [],
   "source": [
    "def plot_kde(*args, figsize=(10, 8), **kwargs):\n",
    "    \"\"\"\n",
    "    Plot each player's bootstrapped means as a kernel density estimation\n",
    "    \"\"\"\n",
    "\n",
    "    df = calculate_bootstrap_df(*args, **kwargs) # get boostrap df\n",
    "    df.plot.kde() # plot as kernel density estimation\n",
    "\n",
    "    fig, ax = plt.gcf(), plt.gca() # get current figure, current axis from above\n",
    "\n",
    "    fig.set_size_inches(figsize)\n",
    "\n",
    "    colors = itertools.cycle(['blue', 'orange', 'green', 'orange'])\n",
    "\n",
    "    for i, (arr, color) in enumerate(zip(args, colors)):\n",
    "\n",
    "        l = ax.lines[i]\n",
    "        x = l.get_xydata()[:,0]\n",
    "        y = l.get_xydata()[:,1]\n",
    "\n",
    "        ax.fill_between(x, y, color=color, alpha=0.2) # fill in the area underneath the KDE plots with their associated color\n",
    "\n",
    "        x_loc = x[np.where(y == y.max())[0]] # find the x-location of the max of each KDE\n",
    "\n",
    "        ax.vlines(x=x_loc, ymax=y.max(), ymin=0, linestyles='dashed', alpha=0.5, color=color) # plot a vertical line leading up to the max of the KDE\n"
   ]
  },
  {
   "cell_type": "code",
   "execution_count": 8,
   "metadata": {},
   "outputs": [
    {
     "data": {
      "image/png": "[encoded data removed]",
      "text/plain": [
       "<Figure size 720x576 with 1 Axes>"
      ]
     },
     "metadata": {},
     "output_type": "display_data"
    }
   ],
   "source": [
    "plot_kde(juju, parker, boyd, player_names=['Juju Smith-Schuster', 'Devante Parker', 'Tyler Boyd'])"
   ]
  },
  {
   "cell_type": "code",
   "execution_count": 7,
   "metadata": {},
   "outputs": [],
   "source": [
    "def calculate_ceiling_floor(*arrays, player_names=None, stdout=False):\n",
    "\n",
    "    data = {}\n",
    "\n",
    "    for i, arr in enumerate(arrays):\n",
    "      boot = calculate_bootstrap_df(arr).values\n",
    "\n",
    "      mean = boot.mean() # find the mean of the means\n",
    "\n",
    "      ceiling = np.percentile(boot, 95) # find the upper bound of the confidence interval\n",
    "      floor = np.percentile(boot, 5) # find the lower bound of the confidence interval\n",
    "\n",
    "      player_data = {\n",
    "          'mean': mean,\n",
    "          'ceiling': ceiling,\n",
    "          'floor': floor\n",
    "      }\n",
    "\n",
    "      if player_names:\n",
    "        data[player_names[i]] = player_data\n",
    "      else:\n",
    "        data[f'player_{i+1}'] = player_data\n",
    "\n",
    "    if stdout:\n",
    "      for player, player_data in data.items():\n",
    "        print(player, 'has a mean projected output of', round(player_data['mean'], 2), \\\n",
    "              'a ceiling of', round(player_data['ceiling'], 2), 'and a floor of', round(player_data['floor'], 2))\n",
    "        print('\\n')\n",
    "\n",
    "    return data"
   ]
  },
  {
   "cell_type": "code",
   "execution_count": 9,
   "metadata": {},
   "outputs": [
    {
     "name": "stdout",
     "output_type": "stream",
     "text": [
      "Juju Smith-Schuster has a mean projected output of 15.86 a ceiling of 16.55 and a floor of 15.23\n",
      "\n",
      "\n",
      "Devante Parker has a mean projected output of 12.48 a ceiling of 13.25 and a floor of 11.67\n",
      "\n",
      "\n",
      "Tyler Boyd has a mean projected output of 12.49 a ceiling of 13.26 and a floor of 11.64\n",
      "\n",
      "\n"
     ]
    }
   ],
   "source": [
    "data = calculate_ceiling_floor(juju, parker, boyd, player_names=['Juju Smith-Schuster', 'Devante Parker', 'Tyler Boyd'], stdout=True)"
   ]
  }
 ],
 "metadata": {
  "kernelspec": {
   "display_name": "fantasyfootball",
   "language": "python",
   "name": "fantasyfootball"
  },
  "language_info": {
   "codemirror_mode": {
    "name": "ipython",
    "version": 3
   },
   "file_extension": ".py",
   "mimetype": "text/x-python",
   "name": "python",
   "nbconvert_exporter": "python",
   "pygments_lexer": "ipython3",
   "version": "3.7.4"
  }
 },
 "nbformat": 4,
 "nbformat_minor": 2
}
